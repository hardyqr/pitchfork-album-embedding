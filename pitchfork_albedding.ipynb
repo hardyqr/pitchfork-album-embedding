{
 "cells": [
  {
   "cell_type": "code",
   "execution_count": 43,
   "metadata": {},
   "outputs": [],
   "source": [
    "import csv\n",
    "import pandas as pd\n",
    "import numpy as np\n",
    "from nltk import tokenize\n",
    "from scipy import spatial\n",
    "from tqdm import tqdm"
   ]
  },
  {
   "cell_type": "code",
   "execution_count": 2,
   "metadata": {},
   "outputs": [],
   "source": [
    "path = \"/home/cambirdgepapa/data/pf.csv\"\n",
    "df = pd.read_csv(path)"
   ]
  },
  {
   "cell_type": "code",
   "execution_count": 3,
   "metadata": {},
   "outputs": [
    {
     "data": {
      "text/html": [
       "<div>\n",
       "<style scoped>\n",
       "    .dataframe tbody tr th:only-of-type {\n",
       "        vertical-align: middle;\n",
       "    }\n",
       "\n",
       "    .dataframe tbody tr th {\n",
       "        vertical-align: top;\n",
       "    }\n",
       "\n",
       "    .dataframe thead th {\n",
       "        text-align: right;\n",
       "    }\n",
       "</style>\n",
       "<table border=\"1\" class=\"dataframe\">\n",
       "  <thead>\n",
       "    <tr style=\"text-align: right;\">\n",
       "      <th></th>\n",
       "      <th>id</th>\n",
       "      <th>artist</th>\n",
       "      <th>album</th>\n",
       "      <th>genre</th>\n",
       "      <th>score</th>\n",
       "      <th>date</th>\n",
       "      <th>author</th>\n",
       "      <th>role</th>\n",
       "      <th>review</th>\n",
       "      <th>bnm</th>\n",
       "      <th>link</th>\n",
       "    </tr>\n",
       "  </thead>\n",
       "  <tbody>\n",
       "    <tr>\n",
       "      <th>0</th>\n",
       "      <td>0</td>\n",
       "      <td>David Byrne</td>\n",
       "      <td>“…The Best Live Show of All Time” — NME EP</td>\n",
       "      <td>Rock</td>\n",
       "      <td>5.5</td>\n",
       "      <td>January 11 2019</td>\n",
       "      <td>Andy Beta</td>\n",
       "      <td>Contributor</td>\n",
       "      <td>Viva Brother, Terris, Mansun, the Twang, Joe L...</td>\n",
       "      <td>0</td>\n",
       "      <td>https://pitchfork.com/reviews/albums/david-byr...</td>\n",
       "    </tr>\n",
       "    <tr>\n",
       "      <th>1</th>\n",
       "      <td>1</td>\n",
       "      <td>DJ Healer</td>\n",
       "      <td>Lost Lovesongs / Lostsongs Vol. 2</td>\n",
       "      <td>Electronic</td>\n",
       "      <td>6.2</td>\n",
       "      <td>January 11 2019</td>\n",
       "      <td>Chal Ravens</td>\n",
       "      <td>Contributor</td>\n",
       "      <td>The Prince of Denmark—that is, the proper prin...</td>\n",
       "      <td>0</td>\n",
       "      <td>https://pitchfork.com/reviews/albums/dj-healer...</td>\n",
       "    </tr>\n",
       "    <tr>\n",
       "      <th>2</th>\n",
       "      <td>2</td>\n",
       "      <td>Jorge Velez</td>\n",
       "      <td>Roman Birds</td>\n",
       "      <td>Electronic</td>\n",
       "      <td>7.9</td>\n",
       "      <td>January 10 2019</td>\n",
       "      <td>Philip Sherburne</td>\n",
       "      <td>Contributing Editor</td>\n",
       "      <td>Jorge Velez has long been prolific, but that’s...</td>\n",
       "      <td>0</td>\n",
       "      <td>https://pitchfork.com/reviews/albums/jorge-vel...</td>\n",
       "    </tr>\n",
       "    <tr>\n",
       "      <th>3</th>\n",
       "      <td>3</td>\n",
       "      <td>Chandra</td>\n",
       "      <td>Transportation EPs</td>\n",
       "      <td>Rock</td>\n",
       "      <td>7.8</td>\n",
       "      <td>January 10 2019</td>\n",
       "      <td>Andy Beta</td>\n",
       "      <td>Contributor</td>\n",
       "      <td>When the Avalanches returned in 2016 after an ...</td>\n",
       "      <td>0</td>\n",
       "      <td>https://pitchfork.com/reviews/albums/chandra-t...</td>\n",
       "    </tr>\n",
       "    <tr>\n",
       "      <th>4</th>\n",
       "      <td>4</td>\n",
       "      <td>The Chainsmokers</td>\n",
       "      <td>Sick Boy</td>\n",
       "      <td>Electronic</td>\n",
       "      <td>3.1</td>\n",
       "      <td>January 9 2019</td>\n",
       "      <td>Larry Fitzmaurice</td>\n",
       "      <td>Contributor</td>\n",
       "      <td>We’re going to be stuck with the Chainsmokers ...</td>\n",
       "      <td>0</td>\n",
       "      <td>https://pitchfork.com/reviews/albums/the-chain...</td>\n",
       "    </tr>\n",
       "  </tbody>\n",
       "</table>\n",
       "</div>"
      ],
      "text/plain": [
       "   id            artist                                       album  \\\n",
       "0   0       David Byrne  “…The Best Live Show of All Time” — NME EP   \n",
       "1   1         DJ Healer           Lost Lovesongs / Lostsongs Vol. 2   \n",
       "2   2       Jorge Velez                                 Roman Birds   \n",
       "3   3           Chandra                          Transportation EPs   \n",
       "4   4  The Chainsmokers                                    Sick Boy   \n",
       "\n",
       "        genre  score             date             author                 role  \\\n",
       "0        Rock    5.5  January 11 2019          Andy Beta          Contributor   \n",
       "1  Electronic    6.2  January 11 2019        Chal Ravens          Contributor   \n",
       "2  Electronic    7.9  January 10 2019   Philip Sherburne  Contributing Editor   \n",
       "3        Rock    7.8  January 10 2019          Andy Beta          Contributor   \n",
       "4  Electronic    3.1   January 9 2019  Larry Fitzmaurice          Contributor   \n",
       "\n",
       "                                              review  bnm  \\\n",
       "0  Viva Brother, Terris, Mansun, the Twang, Joe L...    0   \n",
       "1  The Prince of Denmark—that is, the proper prin...    0   \n",
       "2  Jorge Velez has long been prolific, but that’s...    0   \n",
       "3  When the Avalanches returned in 2016 after an ...    0   \n",
       "4  We’re going to be stuck with the Chainsmokers ...    0   \n",
       "\n",
       "                                                link  \n",
       "0  https://pitchfork.com/reviews/albums/david-byr...  \n",
       "1  https://pitchfork.com/reviews/albums/dj-healer...  \n",
       "2  https://pitchfork.com/reviews/albums/jorge-vel...  \n",
       "3  https://pitchfork.com/reviews/albums/chandra-t...  \n",
       "4  https://pitchfork.com/reviews/albums/the-chain...  "
      ]
     },
     "execution_count": 3,
     "metadata": {},
     "output_type": "execute_result"
    }
   ],
   "source": [
    "df.head()"
   ]
  },
  {
   "cell_type": "code",
   "execution_count": 4,
   "metadata": {},
   "outputs": [],
   "source": [
    "# construct graph\n",
    "# if review similarity > xxx, create an edge"
   ]
  },
  {
   "cell_type": "code",
   "execution_count": 5,
   "metadata": {},
   "outputs": [
    {
     "data": {
      "text/plain": [
       "(20873, 11)"
      ]
     },
     "execution_count": 5,
     "metadata": {},
     "output_type": "execute_result"
    }
   ],
   "source": [
    "df.shape"
   ]
  },
  {
   "cell_type": "code",
   "execution_count": 4,
   "metadata": {},
   "outputs": [
    {
     "name": "stderr",
     "output_type": "stream",
     "text": [
      "100%|██████████| 405M/405M [00:48<00:00, 8.33MB/s] \n"
     ]
    }
   ],
   "source": [
    "from sentence_transformers import SentenceTransformer\n",
    "model = SentenceTransformer('bert-base-nli-mean-tokens')"
   ]
  },
  {
   "cell_type": "code",
   "execution_count": 108,
   "metadata": {},
   "outputs": [],
   "source": [
    "df_rhp = df[df[\"artist\"]==\"Red House Painters\"]\n",
    "df_skm = df[df[\"artist\"]==\"Sun Kil Moon\"]\n",
    "df_kl = df[df[\"artist\"]==\"Kendrick Lamar\"]\n",
    "df_weezer = df[df[\"artist\"]==\"Weezer\"]"
   ]
  },
  {
   "cell_type": "code",
   "execution_count": 109,
   "metadata": {},
   "outputs": [
    {
     "data": {
      "text/html": [
       "<div>\n",
       "<style scoped>\n",
       "    .dataframe tbody tr th:only-of-type {\n",
       "        vertical-align: middle;\n",
       "    }\n",
       "\n",
       "    .dataframe tbody tr th {\n",
       "        vertical-align: top;\n",
       "    }\n",
       "\n",
       "    .dataframe thead th {\n",
       "        text-align: right;\n",
       "    }\n",
       "</style>\n",
       "<table border=\"1\" class=\"dataframe\">\n",
       "  <thead>\n",
       "    <tr style=\"text-align: right;\">\n",
       "      <th></th>\n",
       "      <th>id</th>\n",
       "      <th>artist</th>\n",
       "      <th>album</th>\n",
       "      <th>genre</th>\n",
       "      <th>score</th>\n",
       "      <th>date</th>\n",
       "      <th>author</th>\n",
       "      <th>role</th>\n",
       "      <th>review</th>\n",
       "      <th>bnm</th>\n",
       "      <th>link</th>\n",
       "    </tr>\n",
       "  </thead>\n",
       "  <tbody>\n",
       "    <tr>\n",
       "      <th>1424</th>\n",
       "      <td>1424</td>\n",
       "      <td>Weezer</td>\n",
       "      <td>Pacific Daydream</td>\n",
       "      <td>Rock</td>\n",
       "      <td>4.3</td>\n",
       "      <td>October 26 2017</td>\n",
       "      <td>Saby Reyes-Kulkarni</td>\n",
       "      <td>Contributor</td>\n",
       "      <td>Long ago, Rivers Cuomo basically split Weezer ...</td>\n",
       "      <td>0</td>\n",
       "      <td>https://pitchfork.com/reviews/albums/weezer-pa...</td>\n",
       "    </tr>\n",
       "    <tr>\n",
       "      <th>2288</th>\n",
       "      <td>2291</td>\n",
       "      <td>Weezer</td>\n",
       "      <td>Weezer (Blue Album)</td>\n",
       "      <td>Rock</td>\n",
       "      <td>10.0</td>\n",
       "      <td>February 26 2017</td>\n",
       "      <td>Jillian Mapes</td>\n",
       "      <td>Senior Editor</td>\n",
       "      <td>Weezer mastermind Rivers Cuomo was such a somb...</td>\n",
       "      <td>0</td>\n",
       "      <td>https://pitchfork.com/reviews/albums/22858-wee...</td>\n",
       "    </tr>\n",
       "    <tr>\n",
       "      <th>3436</th>\n",
       "      <td>3441</td>\n",
       "      <td>Weezer</td>\n",
       "      <td>Weezer (White Album)</td>\n",
       "      <td>Rock</td>\n",
       "      <td>6.2</td>\n",
       "      <td>March 30 2016</td>\n",
       "      <td>Zoe Camp</td>\n",
       "      <td>Contributor</td>\n",
       "      <td>In 2014, amidst the wreckage of a long, dispir...</td>\n",
       "      <td>0</td>\n",
       "      <td>https://pitchfork.com/reviews/albums/21593-wee...</td>\n",
       "    </tr>\n",
       "    <tr>\n",
       "      <th>5121</th>\n",
       "      <td>5132</td>\n",
       "      <td>Weezer</td>\n",
       "      <td>Everything Will Be Alright in the End</td>\n",
       "      <td>Rock</td>\n",
       "      <td>6.5</td>\n",
       "      <td>October 2 2014</td>\n",
       "      <td>Ian Cohen</td>\n",
       "      <td>Contributor</td>\n",
       "      <td>Rivers Cuomo has taken your shit for over two ...</td>\n",
       "      <td>0</td>\n",
       "      <td>https://pitchfork.com/reviews/albums/19830-wee...</td>\n",
       "    </tr>\n",
       "    <tr>\n",
       "      <th>9719</th>\n",
       "      <td>9734</td>\n",
       "      <td>Weezer</td>\n",
       "      <td>Pinkerton [Deluxe Edition]</td>\n",
       "      <td>Rock</td>\n",
       "      <td>10.0</td>\n",
       "      <td>November 3 2010</td>\n",
       "      <td>Ian Cohen</td>\n",
       "      <td>Contributor</td>\n",
       "      <td>At one point, there seemed as strong a chance ...</td>\n",
       "      <td>1</td>\n",
       "      <td>https://pitchfork.com/reviews/albums/14817-wee...</td>\n",
       "    </tr>\n",
       "  </tbody>\n",
       "</table>\n",
       "</div>"
      ],
      "text/plain": [
       "        id  artist                                  album genre  score  \\\n",
       "1424  1424  Weezer                       Pacific Daydream  Rock    4.3   \n",
       "2288  2291  Weezer                    Weezer (Blue Album)  Rock   10.0   \n",
       "3436  3441  Weezer                   Weezer (White Album)  Rock    6.2   \n",
       "5121  5132  Weezer  Everything Will Be Alright in the End  Rock    6.5   \n",
       "9719  9734  Weezer             Pinkerton [Deluxe Edition]  Rock   10.0   \n",
       "\n",
       "                  date               author           role  \\\n",
       "1424   October 26 2017  Saby Reyes-Kulkarni    Contributor   \n",
       "2288  February 26 2017        Jillian Mapes  Senior Editor   \n",
       "3436     March 30 2016             Zoe Camp    Contributor   \n",
       "5121    October 2 2014            Ian Cohen    Contributor   \n",
       "9719   November 3 2010            Ian Cohen    Contributor   \n",
       "\n",
       "                                                 review  bnm  \\\n",
       "1424  Long ago, Rivers Cuomo basically split Weezer ...    0   \n",
       "2288  Weezer mastermind Rivers Cuomo was such a somb...    0   \n",
       "3436  In 2014, amidst the wreckage of a long, dispir...    0   \n",
       "5121  Rivers Cuomo has taken your shit for over two ...    0   \n",
       "9719  At one point, there seemed as strong a chance ...    1   \n",
       "\n",
       "                                                   link  \n",
       "1424  https://pitchfork.com/reviews/albums/weezer-pa...  \n",
       "2288  https://pitchfork.com/reviews/albums/22858-wee...  \n",
       "3436  https://pitchfork.com/reviews/albums/21593-wee...  \n",
       "5121  https://pitchfork.com/reviews/albums/19830-wee...  \n",
       "9719  https://pitchfork.com/reviews/albums/14817-wee...  "
      ]
     },
     "execution_count": 109,
     "metadata": {},
     "output_type": "execute_result"
    }
   ],
   "source": [
    "df_weezer.head()"
   ]
  },
  {
   "cell_type": "code",
   "execution_count": 66,
   "metadata": {},
   "outputs": [],
   "source": [
    "emb1 = np.mean(model.encode(tokenize.sent_tokenize(df_rhp[\"review\"].values[0])[:30]),0)\n",
    "emb2 = np.mean(model.encode(tokenize.sent_tokenize(df_rhp[\"review\"].values[1])[:30]),0)\n",
    "emb3 = np.mean(model.encode(tokenize.sent_tokenize(df_skm[\"review\"].values[1])[:30]),0)\n",
    "emb4 = np.mean(model.encode(tokenize.sent_tokenize(df_skm[\"review\"].values[1])[:30]),0)"
   ]
  },
  {
   "cell_type": "code",
   "execution_count": 50,
   "metadata": {},
   "outputs": [],
   "source": [
    "def cosine(x,y):\n",
    "    return 1 - spatial.distance.cosine(x, y)"
   ]
  },
  {
   "cell_type": "code",
   "execution_count": 68,
   "metadata": {},
   "outputs": [
    {
     "name": "stdout",
     "output_type": "stream",
     "text": [
      "0.8771730661392212 0.8797327876091003 0.8805571794509888 0.8797327876091003\n"
     ]
    }
   ],
   "source": [
    "print (cosine(emb1, emb2) , cosine(emb1, emb3), cosine(emb2, emb3),cosine(emb1, emb4))"
   ]
  },
  {
   "cell_type": "code",
   "execution_count": 47,
   "metadata": {},
   "outputs": [
    {
     "name": "stdout",
     "output_type": "stream",
     "text": [
      "(768,) 768\n"
     ]
    }
   ],
   "source": [
    "print (emb2.shape, len(emb2))"
   ]
  },
  {
   "cell_type": "code",
   "execution_count": null,
   "metadata": {},
   "outputs": [],
   "source": []
  },
  {
   "cell_type": "code",
   "execution_count": 32,
   "metadata": {},
   "outputs": [
    {
     "data": {
      "text/plain": [
       "[\"Red House Painters were fairly popular in the early '90s, but details on them were scarce.\",\n",
       " 'This was all before the Internet, so you basically had what a jewel box told you.',\n",
       " \"It's hard to imagine at this point, but when I first heard them, I didn't know anything about Mark Kozelek, the frontman and mastermind behind the project.\",\n",
       " \"I'm not sure I knew his name, and I definitely didn't know what he looked like, or his personality outside of the songs.\",\n",
       " \"I also had no idea the band was a quartet, or that they lived in San Francisco (in Kozelek's case, via Ohio).\",\n",
       " 'At least for me, Red House Painters existed outside of a scene, too.',\n",
       " 'They had a familiar record label with its own distinct aesthetic, but that was the only real touchstone.',\n",
       " 'Not that any of this is bad.',\n",
       " \"The songs on the first four albums—1992's Down Colorful Hill, 1993's pair of self-titled albums (the first nicknamed Rollercoaster, the second\\xa0Bridge, after the photographs on their covers), and 1995's Ocean Beach (here packaged with the Shock Me EP from a year earlier)—felt personal and private enough that it was easy to get lost in your own head while listening.\",\n",
       " 'They featured heartbreaking, personal lyrics and were accompanied by stark, often naturalistic photographs on the covers.',\n",
       " \"The package came with the crystalline, spacious production and Kozelek's clear, powerful voice, and these things merged in an almost mystical way.\",\n",
       " 'The material felt less composed or worked over; it was more like the songs were birthed fully formed.',\n",
       " 'They could drift on for more than 10 minutes, but you kind of gave up on keeping track of this kind of thing.',\n",
       " 'When old albums get reissued, which they increasingly do, the practice usually offers a chance to hear familiar songs again, sometimes with remastering, maybe a few bonuses.',\n",
       " \"Some listeners are feeling nostalgic, seeking to recreate the original context in their minds, while many others are learning about the material for the first time, and aren't all that clear on the context beyond the updated liner notes.\",\n",
       " \"4AD's decision to reissue Red House Painters' first four albums as a fairly spare limited-edition Record Store Day box set (on bronze vinyl, with individual album reissues on black vinyl to follow) offers a unique angle: The band's cantankerous frontman (as we can now call him after that whole War on Drugs debacle) is much better known, and known quite differently, all these years later.\",\n",
       " 'Now you do know exactly who Mark Kozelek is, or at least you think you do.',\n",
       " \"It's important to remember, though, that the group wasn't just Kozelek.\",\n",
       " 'At least not at the beginning.',\n",
       " 'For the first three full-lengths, it was Kozelek on vocals and guitars along with drummer Anthony Koutsos, bassist Jerry Vessel, and guitarist Gorden Mack.',\n",
       " '(Koutsos and Vessel continued with Kozelek to 2001; Mack left in 1995 and was replaced by Phil Carney, who still plays with Sun Kil Moon now and then.)',\n",
       " \"Starting with Songs for a Blue Guitar, which followed Red House Painters' last album for 4AD Ocean Beach, Kozelek basically started doing everything on his own.\",\n",
       " \"He released it on Supreme Recordings, a label owned by John Hughes and under the auspices of Island Records, which reminds me that he's the only person from Red House Painters who also went on to act in movies.\",\n",
       " \"Even accounting for the added years and maybe some Kozelek burnout, the four LPs in this boxset remain Red House Painters' most magical records, and some of the most beautiful works of Kozelek's career.\",\n",
       " \"If you're someone who's been put off by his feuds and outbursts, put aside those reservations—these records deserve it.\",\n",
       " 'And, really, when you come back to them, even after all these years, that mystery somehow still remains.',\n",
       " \"In fact, now and then I need to remind myself just who it is I'm listening to.\",\n",
       " 'Unlike later SKM, the vocals are treated with airier effects.',\n",
       " 'The production is deep and spacious, and sounds very 4AD.',\n",
       " \"Kozelek's lyrics are personal, and moving, but come cloaked in ellipses and metaphor rather than the tell-all\\xa0logorrhea of Benji.\"]"
      ]
     },
     "execution_count": 32,
     "metadata": {},
     "output_type": "execute_result"
    }
   ],
   "source": []
  },
  {
   "cell_type": "code",
   "execution_count": 5,
   "metadata": {},
   "outputs": [],
   "source": [
    "# TF-IDF\n",
    "from sklearn.feature_extraction.text import TfidfVectorizer\n",
    "from sklearn.datasets import fetch_20newsgroups"
   ]
  },
  {
   "cell_type": "code",
   "execution_count": 6,
   "metadata": {},
   "outputs": [],
   "source": [
    "tfidf_review = TfidfVectorizer().fit_transform(df[\"review\"].values.astype('U'))"
   ]
  },
  {
   "cell_type": "code",
   "execution_count": 7,
   "metadata": {},
   "outputs": [
    {
     "name": "stdout",
     "output_type": "stream",
     "text": [
      "(20873, 131154)\n"
     ]
    }
   ],
   "source": [
    "print (tfidf_review.shape)"
   ]
  },
  {
   "cell_type": "code",
   "execution_count": 8,
   "metadata": {},
   "outputs": [],
   "source": [
    "from sklearn.metrics.pairwise import linear_kernel"
   ]
  },
  {
   "cell_type": "code",
   "execution_count": 9,
   "metadata": {},
   "outputs": [
    {
     "name": "stdout",
     "output_type": "stream",
     "text": [
      "[0.38483497]\n",
      "[0.41506844]\n",
      "[0.14346324]\n",
      "[0.65080653]\n",
      "[0.18875779]\n",
      "[0.60217988]\n",
      "[0.45245446]\n",
      "[0.44177944]\n",
      "[0.56380393]\n",
      "[0.52774403]\n",
      "[0.2358361]\n"
     ]
    }
   ],
   "source": [
    "print (linear_kernel(tfidf_review[2100], tfidf_review[3520]).flatten())\n",
    "print (linear_kernel(tfidf_review[2100], tfidf_review[8890]).flatten())\n",
    "print (linear_kernel(tfidf_review[2100], tfidf_review[2000]).flatten())\n",
    "print (linear_kernel(tfidf_review[2279], tfidf_review[128]).flatten()) # same band\n",
    "print (linear_kernel(tfidf_review[2279], tfidf_review[8890]).flatten())\n",
    "print (linear_kernel(tfidf_review[2279], tfidf_review[4471]).flatten()) # same genre\n",
    "print (linear_kernel(tfidf_review[7428], tfidf_review[8890]).flatten()) # same artist\n",
    "print (linear_kernel(tfidf_review[15610], tfidf_review[17858]).flatten()) # same band\n",
    "print (linear_kernel(tfidf_review[14100], tfidf_review[17858]).flatten()) # same band\n",
    "print (linear_kernel(tfidf_review[4471], tfidf_review[20184]).flatten()) # same band\n",
    "print (linear_kernel(tfidf_review[1424], tfidf_review[20184]).flatten()) # same band"
   ]
  },
  {
   "cell_type": "code",
   "execution_count": 10,
   "metadata": {},
   "outputs": [],
   "source": [
    "pairwise_sim = linear_kernel(tfidf_review, tfidf_review)"
   ]
  },
  {
   "cell_type": "code",
   "execution_count": 11,
   "metadata": {},
   "outputs": [],
   "source": [
    "# normalize pairwise_sim\n",
    "#pairwise_sim_std = (pairwise_sim - np.mean(pairwise_sim)) / np.std(pairwise_sim)"
   ]
  },
  {
   "cell_type": "code",
   "execution_count": 19,
   "metadata": {},
   "outputs": [],
   "source": [
    "pairwise_sim_no_diag = pairwise_sim - np.eye(pairwise_sim.shape[0]) * pairwise_sim"
   ]
  },
  {
   "cell_type": "code",
   "execution_count": 75,
   "metadata": {},
   "outputs": [],
   "source": [
    "# creat edges if >th\n",
    "indices0_35 = np.argwhere(pairwise_sim_no_diag>0.35)\n",
    "indices0_4 = np.argwhere(pairwise_sim_no_diag>0.4)\n",
    "indices0_45 = np.argwhere(pairwise_sim_no_diag>0.45)\n",
    "indices0_5 = np.argwhere(pairwise_sim_no_diag>0.5)"
   ]
  },
  {
   "cell_type": "code",
   "execution_count": 76,
   "metadata": {},
   "outputs": [
    {
     "name": "stdout",
     "output_type": "stream",
     "text": [
      "734412 125260 41356 19502\n"
     ]
    }
   ],
   "source": [
    "print (len(indices0_35),len(indices0_4),len(indices0_45),len(indices0_5))"
   ]
  },
  {
   "cell_type": "code",
   "execution_count": null,
   "metadata": {},
   "outputs": [],
   "source": [
    "recorded = []\n",
    "recorded_ = []\n",
    "for ind in tqdm(indices0_35):\n",
    "    r = str(ind[0])+\" \"+str(ind[1])\n",
    "    rr = str(ind[1])+\" \"+str(ind[0])\n",
    "    if (r not in recorded) and (rr not in recorded):\n",
    "        #relations_ind_.append(r+\" \"+str(sim.item()))\n",
    "        recorded.append(r)\n",
    "        sim = pairwise_sim_no_diag[ind[0]][ind[1]]\n",
    "        recorded_.append(r+\" \"+str(float(sim.item())))"
   ]
  },
  {
   "cell_type": "code",
   "execution_count": null,
   "metadata": {},
   "outputs": [],
   "source": [
    "with open('th0_35_weighted.txt', 'w') as f:\n",
    "    for item in recorded_:\n",
    "        f.write(\"%s\\n\" % item)    "
   ]
  },
  {
   "cell_type": "code",
   "execution_count": 53,
   "metadata": {},
   "outputs": [],
   "source": [
    "df_meta = df[[\"album\",\"artist\",\"genre\",\"score\",\"date\",\"link\"]]"
   ]
  },
  {
   "cell_type": "code",
   "execution_count": 54,
   "metadata": {},
   "outputs": [
    {
     "data": {
      "text/html": [
       "<div>\n",
       "<style scoped>\n",
       "    .dataframe tbody tr th:only-of-type {\n",
       "        vertical-align: middle;\n",
       "    }\n",
       "\n",
       "    .dataframe tbody tr th {\n",
       "        vertical-align: top;\n",
       "    }\n",
       "\n",
       "    .dataframe thead th {\n",
       "        text-align: right;\n",
       "    }\n",
       "</style>\n",
       "<table border=\"1\" class=\"dataframe\">\n",
       "  <thead>\n",
       "    <tr style=\"text-align: right;\">\n",
       "      <th></th>\n",
       "      <th>album</th>\n",
       "      <th>artist</th>\n",
       "      <th>genre</th>\n",
       "      <th>score</th>\n",
       "      <th>date</th>\n",
       "      <th>link</th>\n",
       "    </tr>\n",
       "  </thead>\n",
       "  <tbody>\n",
       "    <tr>\n",
       "      <th>0</th>\n",
       "      <td>“…The Best Live Show of All Time” — NME EP</td>\n",
       "      <td>David Byrne</td>\n",
       "      <td>Rock</td>\n",
       "      <td>5.5</td>\n",
       "      <td>January 11 2019</td>\n",
       "      <td>https://pitchfork.com/reviews/albums/david-byr...</td>\n",
       "    </tr>\n",
       "    <tr>\n",
       "      <th>1</th>\n",
       "      <td>Lost Lovesongs / Lostsongs Vol. 2</td>\n",
       "      <td>DJ Healer</td>\n",
       "      <td>Electronic</td>\n",
       "      <td>6.2</td>\n",
       "      <td>January 11 2019</td>\n",
       "      <td>https://pitchfork.com/reviews/albums/dj-healer...</td>\n",
       "    </tr>\n",
       "    <tr>\n",
       "      <th>2</th>\n",
       "      <td>Roman Birds</td>\n",
       "      <td>Jorge Velez</td>\n",
       "      <td>Electronic</td>\n",
       "      <td>7.9</td>\n",
       "      <td>January 10 2019</td>\n",
       "      <td>https://pitchfork.com/reviews/albums/jorge-vel...</td>\n",
       "    </tr>\n",
       "    <tr>\n",
       "      <th>3</th>\n",
       "      <td>Transportation EPs</td>\n",
       "      <td>Chandra</td>\n",
       "      <td>Rock</td>\n",
       "      <td>7.8</td>\n",
       "      <td>January 10 2019</td>\n",
       "      <td>https://pitchfork.com/reviews/albums/chandra-t...</td>\n",
       "    </tr>\n",
       "    <tr>\n",
       "      <th>4</th>\n",
       "      <td>Sick Boy</td>\n",
       "      <td>The Chainsmokers</td>\n",
       "      <td>Electronic</td>\n",
       "      <td>3.1</td>\n",
       "      <td>January 9 2019</td>\n",
       "      <td>https://pitchfork.com/reviews/albums/the-chain...</td>\n",
       "    </tr>\n",
       "    <tr>\n",
       "      <th>...</th>\n",
       "      <td>...</td>\n",
       "      <td>...</td>\n",
       "      <td>...</td>\n",
       "      <td>...</td>\n",
       "      <td>...</td>\n",
       "      <td>...</td>\n",
       "    </tr>\n",
       "    <tr>\n",
       "      <th>20868</th>\n",
       "      <td>Intimate Lightning</td>\n",
       "      <td>Neptune</td>\n",
       "      <td>Experimental,Rock</td>\n",
       "      <td>7.9</td>\n",
       "      <td>June 20 2004</td>\n",
       "      <td>https://pitchfork.com/reviews/albums/5901-inti...</td>\n",
       "    </tr>\n",
       "    <tr>\n",
       "      <th>20869</th>\n",
       "      <td>We Are from Nowhere</td>\n",
       "      <td>Dance Disaster Movement</td>\n",
       "      <td>Experimental</td>\n",
       "      <td>6.5</td>\n",
       "      <td>June 1 2003</td>\n",
       "      <td>https://pitchfork.com/reviews/albums/2160-we-a...</td>\n",
       "    </tr>\n",
       "    <tr>\n",
       "      <th>20870</th>\n",
       "      <td>Failer</td>\n",
       "      <td>Kathleen Edwards</td>\n",
       "      <td>Rock</td>\n",
       "      <td>7.5</td>\n",
       "      <td>May 29 2003</td>\n",
       "      <td>https://pitchfork.com/reviews/albums/2684-failer/</td>\n",
       "    </tr>\n",
       "    <tr>\n",
       "      <th>20871</th>\n",
       "      <td>Reservoir Songs EP</td>\n",
       "      <td>Crooked Fingers</td>\n",
       "      <td>Rock</td>\n",
       "      <td>8.0</td>\n",
       "      <td>May 22 2002</td>\n",
       "      <td>https://pitchfork.com/reviews/albums/1669-rese...</td>\n",
       "    </tr>\n",
       "    <tr>\n",
       "      <th>20872</th>\n",
       "      <td>When Your Heartstrings Break</td>\n",
       "      <td>Beulah</td>\n",
       "      <td>Rock</td>\n",
       "      <td>8.3</td>\n",
       "      <td>April 6 1999</td>\n",
       "      <td>https://pitchfork.com/reviews/albums/678-when-...</td>\n",
       "    </tr>\n",
       "  </tbody>\n",
       "</table>\n",
       "<p>20873 rows × 6 columns</p>\n",
       "</div>"
      ],
      "text/plain": [
       "                                            album                   artist  \\\n",
       "0      “…The Best Live Show of All Time” — NME EP              David Byrne   \n",
       "1               Lost Lovesongs / Lostsongs Vol. 2                DJ Healer   \n",
       "2                                     Roman Birds              Jorge Velez   \n",
       "3                              Transportation EPs                  Chandra   \n",
       "4                                        Sick Boy         The Chainsmokers   \n",
       "...                                           ...                      ...   \n",
       "20868                          Intimate Lightning                  Neptune   \n",
       "20869                         We Are from Nowhere  Dance Disaster Movement   \n",
       "20870                                      Failer         Kathleen Edwards   \n",
       "20871                          Reservoir Songs EP          Crooked Fingers   \n",
       "20872                When Your Heartstrings Break                   Beulah   \n",
       "\n",
       "                   genre  score             date  \\\n",
       "0                   Rock    5.5  January 11 2019   \n",
       "1             Electronic    6.2  January 11 2019   \n",
       "2             Electronic    7.9  January 10 2019   \n",
       "3                   Rock    7.8  January 10 2019   \n",
       "4             Electronic    3.1   January 9 2019   \n",
       "...                  ...    ...              ...   \n",
       "20868  Experimental,Rock    7.9     June 20 2004   \n",
       "20869       Experimental    6.5      June 1 2003   \n",
       "20870               Rock    7.5      May 29 2003   \n",
       "20871               Rock    8.0      May 22 2002   \n",
       "20872               Rock    8.3     April 6 1999   \n",
       "\n",
       "                                                    link  \n",
       "0      https://pitchfork.com/reviews/albums/david-byr...  \n",
       "1      https://pitchfork.com/reviews/albums/dj-healer...  \n",
       "2      https://pitchfork.com/reviews/albums/jorge-vel...  \n",
       "3      https://pitchfork.com/reviews/albums/chandra-t...  \n",
       "4      https://pitchfork.com/reviews/albums/the-chain...  \n",
       "...                                                  ...  \n",
       "20868  https://pitchfork.com/reviews/albums/5901-inti...  \n",
       "20869  https://pitchfork.com/reviews/albums/2160-we-a...  \n",
       "20870  https://pitchfork.com/reviews/albums/2684-failer/  \n",
       "20871  https://pitchfork.com/reviews/albums/1669-rese...  \n",
       "20872  https://pitchfork.com/reviews/albums/678-when-...  \n",
       "\n",
       "[20873 rows x 6 columns]"
      ]
     },
     "execution_count": 54,
     "metadata": {},
     "output_type": "execute_result"
    }
   ],
   "source": [
    "df_meta"
   ]
  },
  {
   "cell_type": "code",
   "execution_count": null,
   "metadata": {},
   "outputs": [],
   "source": []
  }
 ],
 "metadata": {
  "kernelspec": {
   "display_name": "Python 3",
   "language": "python",
   "name": "python3"
  },
  "language_info": {
   "codemirror_mode": {
    "name": "ipython",
    "version": 3
   },
   "file_extension": ".py",
   "mimetype": "text/x-python",
   "name": "python",
   "nbconvert_exporter": "python",
   "pygments_lexer": "ipython3",
   "version": "3.7.3"
  }
 },
 "nbformat": 4,
 "nbformat_minor": 2
}
